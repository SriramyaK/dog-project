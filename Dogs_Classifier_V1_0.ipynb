{
  "nbformat": 4,
  "nbformat_minor": 0,
  "metadata": {
    "colab": {
      "name": "Dogs Classifier V1.0.ipynb",
      "version": "0.3.2",
      "provenance": [],
      "collapsed_sections": [],
      "include_colab_link": true
    },
    "kernelspec": {
      "name": "python3",
      "display_name": "Python 3"
    },
    "accelerator": "GPU"
  },
  "cells": [
    {
      "cell_type": "markdown",
      "metadata": {
        "id": "view-in-github",
        "colab_type": "text"
      },
      "source": [
        "<a href=\"https://colab.research.google.com/github/SriramyaK/dog-project/blob/master/Dogs_Classifier_V1_0.ipynb\" target=\"_parent\"><img src=\"https://colab.research.google.com/assets/colab-badge.svg\" alt=\"Open In Colab\"/></a>"
      ]
    },
    {
      "cell_type": "code",
      "metadata": {
        "id": "Ep-39wA53aA2",
        "colab_type": "code",
        "outputId": "5c947902-db1d-466f-d0df-419545c43126",
        "colab": {
          "base_uri": "https://localhost:8080/",
          "height": 34
        }
      },
      "source": [
        "from google.colab import drive\n",
        "drive.mount('/content/drive/')"
      ],
      "execution_count": 0,
      "outputs": [
        {
          "output_type": "stream",
          "text": [
            "Drive already mounted at /content/drive/; to attempt to forcibly remount, call drive.mount(\"/content/drive/\", force_remount=True).\n"
          ],
          "name": "stdout"
        }
      ]
    },
    {
      "cell_type": "code",
      "metadata": {
        "id": "f917kOOB49p3",
        "colab_type": "code",
        "colab": {}
      },
      "source": [
        "#!unzip -uq \"/content/drive/My Drive/Colab Notebooks/dogImages.zip\" -d \"/content/drive/My Drive/Colab Notebooks\""
      ],
      "execution_count": 0,
      "outputs": []
    },
    {
      "cell_type": "code",
      "metadata": {
        "id": "K3ukqsCvJGYk",
        "colab_type": "code",
        "colab": {}
      },
      "source": [
        "#!unzip -uq \"/content/drive/My Drive/Colab Notebooks/dog-project/lfw.zip\" -d \"/content/drive/My Drive/Colab Notebooks/dog-project/\""
      ],
      "execution_count": 0,
      "outputs": []
    },
    {
      "cell_type": "code",
      "metadata": {
        "id": "XSIFaVDdo2jb",
        "colab_type": "code",
        "colab": {}
      },
      "source": [
        "#!cd \"/content/drive/My Drive/Colab Notebooks/dog-project/haarcascades\""
      ],
      "execution_count": 0,
      "outputs": []
    },
    {
      "cell_type": "code",
      "metadata": {
        "id": "XiT72wxiEnUg",
        "colab_type": "code",
        "outputId": "510796ba-594a-4957-bdbf-8ab1a68b2bae",
        "colab": {
          "base_uri": "https://localhost:8080/",
          "height": 119
        }
      },
      "source": [
        "from sklearn.datasets import load_files       \n",
        "from keras.utils import np_utils\n",
        "import numpy as np\n",
        "from glob import glob\n",
        "import tensorflow as tf\n",
        "from tensorflow.keras import layers\n",
        "from tensorflow import keras \n",
        "\n",
        "# define function to load train, test, and validation datasets\n",
        "def load_dataset(path):\n",
        "    data = load_files(path)\n",
        "    dog_files = np.array(data['filenames'])\n",
        "    dog_targets = np_utils.to_categorical(np.array(data['target']), 133)\n",
        "    return dog_files, dog_targets\n",
        "\n",
        "# load train, test, and validation datasets\n",
        "train_files, train_targets = load_dataset('/content/drive/My Drive/Colab Notebooks/dog-project/dogImages/train')\n",
        "valid_files, valid_targets = load_dataset('/content/drive/My Drive/Colab Notebooks/dog-project/dogImages/valid')\n",
        "test_files, test_targets = load_dataset('/content/drive/My Drive/Colab Notebooks/dog-project/dogImages/test')\n",
        "\n",
        "# load list of dog names\n",
        "dog_names = [item[20:-1] for item in sorted(glob(\"/content/drive/My Drive/Colab Notebooks/dog-project/dogImages/train/*/\"))]\n",
        "\n",
        "# print statistics about the dataset\n",
        "print('There are %d total dog categories.' % len(dog_names))\n",
        "print('There are %s total dog images.\\n' % len(np.hstack([train_files, valid_files, test_files])))\n",
        "print('There are %d training dog images.' % len(train_files))\n",
        "print('There are %d validation dog images.' % len(valid_files))\n",
        "print('There are %d test dog images.'% len(test_files))"
      ],
      "execution_count": 0,
      "outputs": [
        {
          "output_type": "stream",
          "text": [
            "There are 133 total dog categories.\n",
            "There are 8351 total dog images.\n",
            "\n",
            "There are 6680 training dog images.\n",
            "There are 835 validation dog images.\n",
            "There are 836 test dog images.\n"
          ],
          "name": "stdout"
        }
      ]
    },
    {
      "cell_type": "code",
      "metadata": {
        "id": "jyutK6IqFzga",
        "colab_type": "code",
        "outputId": "9d846bca-0b59-45e9-f1ae-762da65ff430",
        "colab": {
          "base_uri": "https://localhost:8080/",
          "height": 34
        }
      },
      "source": [
        "import random\n",
        "random.seed(8675309)\n",
        "\n",
        "human_files = np.array(glob('/content/drive/My Drive/Colab Notebooks/dog-project/lfw/*/*'))\n",
        "random.shuffle(human_files)\n",
        "print('There are %d total human images.' % len(human_files))"
      ],
      "execution_count": 0,
      "outputs": [
        {
          "output_type": "stream",
          "text": [
            "There are 13233 total human images.\n"
          ],
          "name": "stdout"
        }
      ]
    },
    {
      "cell_type": "code",
      "metadata": {
        "id": "TEwexUdylTP2",
        "colab_type": "code",
        "outputId": "306595b8-a15a-442d-bb6a-f082ab05a6cf",
        "colab": {
          "base_uri": "https://localhost:8080/",
          "height": 34
        }
      },
      "source": [
        "human_files[3]"
      ],
      "execution_count": 0,
      "outputs": [
        {
          "output_type": "execute_result",
          "data": {
            "text/plain": [
              "'/content/drive/My Drive/Colab Notebooks/dog-project/lfw/Wang_Yi/Wang_Yi_0002.jpg'"
            ]
          },
          "metadata": {
            "tags": []
          },
          "execution_count": 21
        }
      ]
    },
    {
      "cell_type": "code",
      "metadata": {
        "id": "UoMVhlhzidPz",
        "colab_type": "code",
        "outputId": "02a17725-6b27-4c62-e256-052b20a49b49",
        "colab": {
          "base_uri": "https://localhost:8080/",
          "height": 286
        }
      },
      "source": [
        "import cv2\n",
        "import matplotlib.pyplot as plt\n",
        "%matplotlib inline\n",
        "\n",
        "face_cascade = cv2.CascadeClassifier('/content/drive/My Drive/Colab Notebooks/dog-project/haarcascades/haarcascade_frontalface_alt.xml')\n",
        "img = cv2.imread(human_files[3])\n",
        "gray = cv2.cvtColor( img, cv2.COLOR_BGR2GRAY)\n",
        "\n",
        "faces = face_cascade.detectMultiScale(gray)\n",
        "print('Number of faces detected:', len(faces))\n",
        "\n",
        "for (x,y,w,h) in faces:\n",
        "    # add bounding box to color image\n",
        "    cv2.rectangle(img,(x,y),(x+w,y+h),(255,0,0),2)\n",
        "    \n",
        "# convert BGR image to RGB for plotting\n",
        "cv_rgb = cv2.cvtColor(img, cv2.COLOR_BGR2RGB)\n",
        "\n",
        "# display the image, along with bounding box\n",
        "plt.imshow(cv_rgb)\n",
        "plt.show()"
      ],
      "execution_count": 0,
      "outputs": [
        {
          "output_type": "stream",
          "text": [
            "Number of faces detected: 1\n"
          ],
          "name": "stdout"
        },
        {
          "output_type": "display_data",
          "data": {
            "image/png": "[encoded data removed]",
            "text/plain": [
              "<Figure size 432x288 with 1 Axes>"
            ]
          },
          "metadata": {
            "tags": []
          }
        }
      ]
    },
    {
      "cell_type": "code",
      "metadata": {
        "id": "pxIkXEzn3Js9",
        "colab_type": "code",
        "colab": {}
      },
      "source": [
        "def face_detector(img_path):\n",
        "    img = cv2.imread(img_path)\n",
        "    gray = cv2.cvtColor(img, cv2.COLOR_BGR2GRAY)\n",
        "    faces = face_cascade.detectMultiScale(gray)\n",
        "    return len(faces) > 0"
      ],
      "execution_count": 0,
      "outputs": []
    },
    {
      "cell_type": "code",
      "metadata": {
        "id": "-mZEDAn33X33",
        "colab_type": "code",
        "outputId": "ac3e5759-8887-4651-ed00-b2a6d78b2228",
        "colab": {
          "base_uri": "https://localhost:8080/",
          "height": 51
        }
      },
      "source": [
        "human_files_short = human_files[:100]\n",
        "dog_files_short = train_files[:100]\n",
        "# Do NOT modify the code above this line.\n",
        "\n",
        "## TODO: Test the performance of the face_detector algorithm \n",
        "num_trues_1 = 0\n",
        "for i in human_files_short:\n",
        "    pred = face_detector(i)\n",
        "    if pred == True:\n",
        "        num_trues_1 = num_trues_1+1\n",
        "\n",
        "num_trues_2 = 0\n",
        "for i in dog_files_short:\n",
        "    pred = face_detector(i)\n",
        "    if pred == True:\n",
        "        num_trues_2 = num_trues_2+1\n",
        "## on the images in human_files_short and dog_files_short.\n",
        "\n",
        "print (\"Percentage of detected human faces in first 100 human_files is %f\" % ((num_trues_1/100)*100))\n",
        "print (\"Percentage of detected human faces in first 100 dog_files is %f\" % ((num_trues_2/100)*100))"
      ],
      "execution_count": 0,
      "outputs": [
        {
          "output_type": "stream",
          "text": [
            "Percentage of detected human faces in first 100 human_files is 97.000000\n",
            "Percentage of detected human faces in first 100 dog_files is 12.000000\n"
          ],
          "name": "stdout"
        }
      ]
    },
    {
      "cell_type": "code",
      "metadata": {
        "id": "9-m5Wyfxj_XP",
        "colab_type": "code",
        "outputId": "78e6a5c2-5b10-44e6-91bf-304faf8b04e4",
        "colab": {
          "base_uri": "https://localhost:8080/",
          "height": 54
        }
      },
      "source": [
        "'''dnnFaceDetector = dlib.cnn_face_detection_model_v1(\"./mmod_human_face_detector.dat\")\n",
        "faceRects = dnnFaceDetector(frameDlibHogSmall, 0)\n",
        "for faceRect in faceRects:\n",
        "    x1 = faceRect.rect.left()\n",
        "    y1 = faceRect.rect.top()\n",
        "    x2 = faceRect.rect.right()\n",
        "    y2 = faceRect.rect.bottom()'''"
      ],
      "execution_count": 0,
      "outputs": [
        {
          "output_type": "execute_result",
          "data": {
            "text/plain": [
              "'dnnFaceDetector = dlib.cnn_face_detection_model_v1(\"./mmod_human_face_detector.dat\")\\nfaceRects = dnnFaceDetector(frameDlibHogSmall, 0)\\nfor faceRect in faceRects:\\n    x1 = faceRect.rect.left()\\n    y1 = faceRect.rect.top()\\n    x2 = faceRect.rect.right()\\n    y2 = faceRect.rect.bottom()'"
            ]
          },
          "metadata": {
            "tags": []
          },
          "execution_count": 25
        }
      ]
    },
    {
      "cell_type": "code",
      "metadata": {
        "id": "kuOcLpog07wo",
        "colab_type": "code",
        "outputId": "17feaced-759f-4a33-d6b7-b18b0b479f6f",
        "colab": {
          "base_uri": "https://localhost:8080/",
          "height": 309
        }
      },
      "source": [
        "from keras.applications.resnet50 import ResNet50\n",
        "ResNet_model = ResNet50(weights='imagenet')\n",
        "print('resnet imported..')"
      ],
      "execution_count": 0,
      "outputs": [
        {
          "output_type": "stream",
          "text": [
            "WARNING: Logging before flag parsing goes to stderr.\n",
            "W0628 19:44:06.009434 139624418748288 deprecation_wrapper.py:119] From /usr/local/lib/python3.6/dist-packages/keras/backend/tensorflow_backend.py:74: The name tf.get_default_graph is deprecated. Please use tf.compat.v1.get_default_graph instead.\n",
            "\n",
            "W0628 19:44:06.044333 139624418748288 deprecation_wrapper.py:119] From /usr/local/lib/python3.6/dist-packages/keras/backend/tensorflow_backend.py:517: The name tf.placeholder is deprecated. Please use tf.compat.v1.placeholder instead.\n",
            "\n",
            "W0628 19:44:06.052915 139624418748288 deprecation_wrapper.py:119] From /usr/local/lib/python3.6/dist-packages/keras/backend/tensorflow_backend.py:4185: The name tf.truncated_normal is deprecated. Please use tf.random.truncated_normal instead.\n",
            "\n",
            "W0628 19:44:06.097243 139624418748288 deprecation_wrapper.py:119] From /usr/local/lib/python3.6/dist-packages/keras/backend/tensorflow_backend.py:174: The name tf.get_default_session is deprecated. Please use tf.compat.v1.get_default_session instead.\n",
            "\n",
            "W0628 19:44:06.099946 139624418748288 deprecation_wrapper.py:119] From /usr/local/lib/python3.6/dist-packages/keras/backend/tensorflow_backend.py:181: The name tf.ConfigProto is deprecated. Please use tf.compat.v1.ConfigProto instead.\n",
            "\n",
            "W0628 19:44:08.890182 139624418748288 deprecation_wrapper.py:119] From /usr/local/lib/python3.6/dist-packages/keras/backend/tensorflow_backend.py:1834: The name tf.nn.fused_batch_norm is deprecated. Please use tf.compat.v1.nn.fused_batch_norm instead.\n",
            "\n",
            "W0628 19:44:08.959480 139624418748288 deprecation_wrapper.py:119] From /usr/local/lib/python3.6/dist-packages/keras/backend/tensorflow_backend.py:3976: The name tf.nn.max_pool is deprecated. Please use tf.nn.max_pool2d instead.\n",
            "\n"
          ],
          "name": "stderr"
        },
        {
          "output_type": "stream",
          "text": [
            "resnet imported..\n"
          ],
          "name": "stdout"
        }
      ]
    },
    {
      "cell_type": "code",
      "metadata": {
        "id": "34bV1zTv1k3G",
        "colab_type": "code",
        "colab": {}
      },
      "source": [
        "from keras.preprocessing import image  \n",
        "from tqdm import tqdm\n",
        "\n",
        "def path_to_tensor(img_path):\n",
        "    # loads RGB image as PIL.Image.Image type\n",
        "    img = image.load_img(img_path, target_size=(224, 224))\n",
        "    # convert PIL.Image.Image type to 3D tensor with shape (224, 224, 3)\n",
        "    x = image.img_to_array(img)\n",
        "    # convert 3D tensor to 4D tensor with shape (1, 224, 224, 3) and return 4D tensor\n",
        "    return np.expand_dims(x, axis=0)\n",
        "\n",
        "def paths_to_tensor(img_paths):\n",
        "    list_of_tensors = [path_to_tensor(img_path) for img_path in tqdm(img_paths)]\n",
        "    return np.vstack(list_of_tensors)"
      ],
      "execution_count": 0,
      "outputs": []
    },
    {
      "cell_type": "code",
      "metadata": {
        "id": "Ez6rOp3A2R5d",
        "colab_type": "code",
        "outputId": "c751ab60-5807-4814-ded5-064ab69a98cb",
        "colab": {
          "base_uri": "https://localhost:8080/",
          "height": 34
        }
      },
      "source": [
        "from keras.applications.resnet50 import preprocess_input, decode_predictions\n",
        "print(\"libraries from resnet imported..\")\n",
        "\n",
        "def ResNet50_predict_labels(img_path):\n",
        "    # returns prediction vector for image located at img_path\n",
        "    img = preprocess_input(path_to_tensor(img_path))\n",
        "    return np.argmax(ResNet_model.predict(img))"
      ],
      "execution_count": 0,
      "outputs": [
        {
          "output_type": "stream",
          "text": [
            "libraries from resnet imported..\n"
          ],
          "name": "stdout"
        }
      ]
    },
    {
      "cell_type": "code",
      "metadata": {
        "id": "gf7pyk4t2X3s",
        "colab_type": "code",
        "colab": {}
      },
      "source": [
        "def dog_detector(img_path):\n",
        "    prediction = ResNet50_predict_labels(img_path)\n",
        "    return ((prediction <= 268) & (prediction >= 151)) "
      ],
      "execution_count": 0,
      "outputs": []
    },
    {
      "cell_type": "code",
      "metadata": {
        "id": "jS7voDlZ2gQP",
        "colab_type": "code",
        "outputId": "e9223d24-4b8f-4cf9-de18-000274ac60e3",
        "colab": {
          "base_uri": "https://localhost:8080/",
          "height": 68
        }
      },
      "source": [
        "### on the images in human_files_short and dog_files_short.\n",
        "\n",
        "num_trues_1 = 0\n",
        "for i in human_files_short:\n",
        "    pred = dog_detector(i)\n",
        "    if pred == True:\n",
        "        num_trues_1 = num_trues_1+1\n",
        "        \n",
        "print(\"human files processed..\")\n",
        "num_trues_2 = 0\n",
        "for i in dog_files_short:\n",
        "    pred = dog_detector(i)\n",
        "    if pred == True:\n",
        "        num_trues_2 = num_trues_2+1\n",
        "## on the images in human_files_short and dog_files_short.\n",
        "\n",
        "print (\"Percentage of detected dogs in first 100 human_files is %f\" % ((num_trues_1/100)*100))\n",
        "print (\"Percentage of detected dogs in first 100 dog_files is %f\" % ((num_trues_2/100)*100))"
      ],
      "execution_count": 0,
      "outputs": [
        {
          "output_type": "stream",
          "text": [
            "human files processed..\n",
            "Percentage of detected dogs in first 100 human_files is 0.000000\n",
            "Percentage of detected dogs in first 100 dog_files is 100.000000\n"
          ],
          "name": "stdout"
        }
      ]
    },
    {
      "cell_type": "code",
      "metadata": {
        "id": "TOwHiWH1_Okk",
        "colab_type": "code",
        "outputId": "469c84e2-63c5-4ad9-919b-a117076cfb82",
        "colab": {
          "base_uri": "https://localhost:8080/",
          "height": 68
        }
      },
      "source": [
        "from PIL import ImageFile                            \n",
        "ImageFile.LOAD_TRUNCATED_IMAGES = True                 \n",
        "\n",
        "# pre-process the data for Keras\n",
        "train_tensors = paths_to_tensor(train_files).astype('float32')/255\n",
        "valid_tensors = paths_to_tensor(valid_files).astype('float32')/255\n",
        "test_tensors = paths_to_tensor(test_files).astype('float32')/255"
      ],
      "execution_count": 0,
      "outputs": [
        {
          "output_type": "stream",
          "text": [
            "100%|██████████| 6680/6680 [01:28<00:00, 75.21it/s]\n",
            "100%|██████████| 835/835 [00:07<00:00, 115.98it/s]\n",
            "100%|██████████| 836/836 [00:06<00:00, 119.97it/s]\n"
          ],
          "name": "stderr"
        }
      ]
    },
    {
      "cell_type": "code",
      "metadata": {
        "id": "idIpSq_D2qWy",
        "colab_type": "code",
        "outputId": "5ffbca72-0e67-4169-f46c-35577d1c8a14",
        "colab": {
          "base_uri": "https://localhost:8080/",
          "height": 547
        }
      },
      "source": [
        "from keras.layers import Conv2D, MaxPooling2D, GlobalAveragePooling2D\n",
        "from keras.layers import Dropout, Flatten, Dense\n",
        "from keras.models import Sequential\n",
        "\n",
        "model = Sequential()\n",
        "\n",
        "model.add(Conv2D(32, (5, 5), activation='relu', input_shape=(224,224,3)))\n",
        "model.add(MaxPooling2D(pool_size=(2,2)))\n",
        "\n",
        "model.add(Conv2D(32, (3, 3), activation='relu'))\n",
        "model.add(MaxPooling2D(pool_size=(2,2)))\n",
        "model.add(Flatten())\n",
        "\n",
        "model.add(Dense(128, activation='relu', kernel_initializer=\"uniform\"))\n",
        "model.add(Dropout(0.4))\n",
        "\n",
        "model.add(Dense(32, activation='relu', kernel_initializer=\"uniform\"))\n",
        "model.add(Dropout(0.4))\n",
        "\n",
        "model.add(Dense(133, activation='softmax'))\n",
        "\n",
        "model.summary()"
      ],
      "execution_count": 0,
      "outputs": [
        {
          "output_type": "stream",
          "text": [
            "W0628 19:46:22.596947 139624418748288 deprecation.py:506] From /usr/local/lib/python3.6/dist-packages/keras/backend/tensorflow_backend.py:3445: calling dropout (from tensorflow.python.ops.nn_ops) with keep_prob is deprecated and will be removed in a future version.\n",
            "Instructions for updating:\n",
            "Please use `rate` instead of `keep_prob`. Rate should be set to `rate = 1 - keep_prob`.\n"
          ],
          "name": "stderr"
        },
        {
          "output_type": "stream",
          "text": [
            "_________________________________________________________________\n",
            "Layer (type)                 Output Shape              Param #   \n",
            "=================================================================\n",
            "conv2d_1 (Conv2D)            (None, 220, 220, 32)      2432      \n",
            "_________________________________________________________________\n",
            "max_pooling2d_2 (MaxPooling2 (None, 110, 110, 32)      0         \n",
            "_________________________________________________________________\n",
            "conv2d_2 (Conv2D)            (None, 108, 108, 32)      9248      \n",
            "_________________________________________________________________\n",
            "max_pooling2d_3 (MaxPooling2 (None, 54, 54, 32)        0         \n",
            "_________________________________________________________________\n",
            "flatten_1 (Flatten)          (None, 93312)             0         \n",
            "_________________________________________________________________\n",
            "dense_1 (Dense)              (None, 128)               11944064  \n",
            "_________________________________________________________________\n",
            "dropout_1 (Dropout)          (None, 128)               0         \n",
            "_________________________________________________________________\n",
            "dense_2 (Dense)              (None, 32)                4128      \n",
            "_________________________________________________________________\n",
            "dropout_2 (Dropout)          (None, 32)                0         \n",
            "_________________________________________________________________\n",
            "dense_3 (Dense)              (None, 133)               4389      \n",
            "=================================================================\n",
            "Total params: 11,964,261\n",
            "Trainable params: 11,964,261\n",
            "Non-trainable params: 0\n",
            "_________________________________________________________________\n"
          ],
          "name": "stdout"
        }
      ]
    },
    {
      "cell_type": "code",
      "metadata": {
        "id": "OwWBLrJO_s0x",
        "colab_type": "code",
        "outputId": "7d7eee54-47d4-4dc1-b578-8605683ae08c",
        "colab": {
          "base_uri": "https://localhost:8080/",
          "height": 71
        }
      },
      "source": [
        "model.compile(optimizer='rmsprop', loss='categorical_crossentropy', metrics=['accuracy'])"
      ],
      "execution_count": 0,
      "outputs": [
        {
          "output_type": "stream",
          "text": [
            "W0628 19:46:22.669093 139624418748288 deprecation_wrapper.py:119] From /usr/local/lib/python3.6/dist-packages/keras/optimizers.py:790: The name tf.train.Optimizer is deprecated. Please use tf.compat.v1.train.Optimizer instead.\n",
            "\n"
          ],
          "name": "stderr"
        }
      ]
    },
    {
      "cell_type": "code",
      "metadata": {
        "id": "RsI_Oirf_tic",
        "colab_type": "code",
        "outputId": "939a3eda-7a5c-4823-f727-b6ba33152b65",
        "colab": {
          "base_uri": "https://localhost:8080/",
          "height": 1000
        }
      },
      "source": [
        "from keras.callbacks import ModelCheckpoint  \n",
        "\n",
        "### TODO: specify the number of epochs that you would like to use to train the model.\n",
        "\n",
        "epochs = 50\n",
        "\n",
        "### Do NOT modify the code below this line.\n",
        "\n",
        "checkpointer = ModelCheckpoint(filepath='/content/drive/My Drive/Colab Notebooks/dog-project/saved_models/weights.best.from_scratch.hdf5', \n",
        "                               verbose=1, save_best_only=True)\n",
        "\n",
        "model.fit(train_tensors, train_targets, \n",
        "          validation_data=(valid_tensors, valid_targets),\n",
        "          epochs=epochs, batch_size=20, callbacks=[checkpointer], verbose=1)"
      ],
      "execution_count": 0,
      "outputs": [
        {
          "output_type": "stream",
          "text": [
            "W0628 19:46:22.863828 139624418748288 deprecation.py:323] From /usr/local/lib/python3.6/dist-packages/tensorflow/python/ops/math_grad.py:1250: add_dispatch_support.<locals>.wrapper (from tensorflow.python.ops.array_ops) is deprecated and will be removed in a future version.\n",
            "Instructions for updating:\n",
            "Use tf.where in 2.0, which has the same broadcast rule as np.where\n"
          ],
          "name": "stderr"
        },
        {
          "output_type": "stream",
          "text": [
            "Train on 6680 samples, validate on 835 samples\n",
            "Epoch 1/50\n",
            "6680/6680 [==============================] - 14s 2ms/step - loss: 4.8961 - acc: 0.0081 - val_loss: 4.8833 - val_acc: 0.0084\n",
            "\n",
            "Epoch 00001: val_loss improved from inf to 4.88328, saving model to /content/drive/My Drive/Colab Notebooks/dog-project/saved_models/weights.best.from_scratch.hdf5\n",
            "Epoch 2/50\n",
            "6680/6680 [==============================] - 12s 2ms/step - loss: 4.8849 - acc: 0.0103 - val_loss: 4.8768 - val_acc: 0.0120\n",
            "\n",
            "Epoch 00002: val_loss improved from 4.88328 to 4.87682, saving model to /content/drive/My Drive/Colab Notebooks/dog-project/saved_models/weights.best.from_scratch.hdf5\n",
            "Epoch 3/50\n",
            "6680/6680 [==============================] - 12s 2ms/step - loss: 4.8650 - acc: 0.0094 - val_loss: 4.8461 - val_acc: 0.0180\n",
            "\n",
            "Epoch 00003: val_loss improved from 4.87682 to 4.84615, saving model to /content/drive/My Drive/Colab Notebooks/dog-project/saved_models/weights.best.from_scratch.hdf5\n",
            "Epoch 4/50\n",
            "6680/6680 [==============================] - 12s 2ms/step - loss: 4.7916 - acc: 0.0219 - val_loss: 4.7601 - val_acc: 0.0228\n",
            "\n",
            "Epoch 00004: val_loss improved from 4.84615 to 4.76007, saving model to /content/drive/My Drive/Colab Notebooks/dog-project/saved_models/weights.best.from_scratch.hdf5\n",
            "Epoch 5/50\n",
            "6680/6680 [==============================] - 12s 2ms/step - loss: 4.6609 - acc: 0.0302 - val_loss: 4.6967 - val_acc: 0.0395\n",
            "\n",
            "Epoch 00005: val_loss improved from 4.76007 to 4.69666, saving model to /content/drive/My Drive/Colab Notebooks/dog-project/saved_models/weights.best.from_scratch.hdf5\n",
            "Epoch 6/50\n",
            "6680/6680 [==============================] - 12s 2ms/step - loss: 4.4971 - acc: 0.0446 - val_loss: 4.6292 - val_acc: 0.0347\n",
            "\n",
            "Epoch 00006: val_loss improved from 4.69666 to 4.62918, saving model to /content/drive/My Drive/Colab Notebooks/dog-project/saved_models/weights.best.from_scratch.hdf5\n",
            "Epoch 7/50\n",
            "6680/6680 [==============================] - 12s 2ms/step - loss: 4.3128 - acc: 0.0623 - val_loss: 4.6174 - val_acc: 0.0311\n",
            "\n",
            "Epoch 00007: val_loss improved from 4.62918 to 4.61744, saving model to /content/drive/My Drive/Colab Notebooks/dog-project/saved_models/weights.best.from_scratch.hdf5\n",
            "Epoch 8/50\n",
            "6680/6680 [==============================] - 12s 2ms/step - loss: 4.0853 - acc: 0.0826 - val_loss: 4.6046 - val_acc: 0.0371\n",
            "\n",
            "Epoch 00008: val_loss improved from 4.61744 to 4.60462, saving model to /content/drive/My Drive/Colab Notebooks/dog-project/saved_models/weights.best.from_scratch.hdf5\n",
            "Epoch 9/50\n",
            "6680/6680 [==============================] - 12s 2ms/step - loss: 3.8891 - acc: 0.1073 - val_loss: 4.6387 - val_acc: 0.0467\n",
            "\n",
            "Epoch 00009: val_loss did not improve from 4.60462\n",
            "Epoch 10/50\n",
            "6680/6680 [==============================] - 12s 2ms/step - loss: 3.6504 - acc: 0.1302 - val_loss: 4.5922 - val_acc: 0.0431\n",
            "\n",
            "Epoch 00010: val_loss improved from 4.60462 to 4.59219, saving model to /content/drive/My Drive/Colab Notebooks/dog-project/saved_models/weights.best.from_scratch.hdf5\n",
            "Epoch 11/50\n",
            "6680/6680 [==============================] - 12s 2ms/step - loss: 3.4985 - acc: 0.1632 - val_loss: 4.6223 - val_acc: 0.0491\n",
            "\n",
            "Epoch 00011: val_loss did not improve from 4.59219\n",
            "Epoch 12/50\n",
            "6680/6680 [==============================] - 12s 2ms/step - loss: 3.2883 - acc: 0.1849 - val_loss: 4.6343 - val_acc: 0.0491\n",
            "\n",
            "Epoch 00012: val_loss did not improve from 4.59219\n",
            "Epoch 13/50\n",
            "6680/6680 [==============================] - 12s 2ms/step - loss: 3.0954 - acc: 0.2165 - val_loss: 4.7296 - val_acc: 0.0491\n",
            "\n",
            "Epoch 00013: val_loss did not improve from 4.59219\n",
            "Epoch 14/50\n",
            "6680/6680 [==============================] - 12s 2ms/step - loss: 2.9518 - acc: 0.2516 - val_loss: 4.8784 - val_acc: 0.0419\n",
            "\n",
            "Epoch 00014: val_loss did not improve from 4.59219\n",
            "Epoch 15/50\n",
            "6680/6680 [==============================] - 12s 2ms/step - loss: 2.8237 - acc: 0.2861 - val_loss: 5.0401 - val_acc: 0.0431\n",
            "\n",
            "Epoch 00015: val_loss did not improve from 4.59219\n",
            "Epoch 16/50\n",
            "6680/6680 [==============================] - 12s 2ms/step - loss: 2.6726 - acc: 0.3057 - val_loss: 5.0207 - val_acc: 0.0479\n",
            "\n",
            "Epoch 00016: val_loss did not improve from 4.59219\n",
            "Epoch 17/50\n",
            "6680/6680 [==============================] - 12s 2ms/step - loss: 2.5505 - acc: 0.3265 - val_loss: 4.8042 - val_acc: 0.0431\n",
            "\n",
            "Epoch 00017: val_loss did not improve from 4.59219\n",
            "Epoch 18/50\n",
            "6680/6680 [==============================] - 12s 2ms/step - loss: 2.4254 - acc: 0.3518 - val_loss: 4.8906 - val_acc: 0.0515\n",
            "\n",
            "Epoch 00018: val_loss did not improve from 4.59219\n",
            "Epoch 19/50\n",
            "6680/6680 [==============================] - 12s 2ms/step - loss: 2.4041 - acc: 0.3627 - val_loss: 4.7261 - val_acc: 0.0371\n",
            "\n",
            "Epoch 00019: val_loss did not improve from 4.59219\n",
            "Epoch 20/50\n",
            "6680/6680 [==============================] - 12s 2ms/step - loss: 2.2788 - acc: 0.3973 - val_loss: 5.2807 - val_acc: 0.0503\n",
            "\n",
            "Epoch 00020: val_loss did not improve from 4.59219\n",
            "Epoch 21/50\n",
            "6680/6680 [==============================] - 12s 2ms/step - loss: 2.1993 - acc: 0.4099 - val_loss: 4.8475 - val_acc: 0.0443\n",
            "\n",
            "Epoch 00021: val_loss did not improve from 4.59219\n",
            "Epoch 22/50\n",
            "6680/6680 [==============================] - 12s 2ms/step - loss: 2.1104 - acc: 0.4304 - val_loss: 5.0622 - val_acc: 0.0455\n",
            "\n",
            "Epoch 00022: val_loss did not improve from 4.59219\n",
            "Epoch 23/50\n",
            "6680/6680 [==============================] - 12s 2ms/step - loss: 2.0468 - acc: 0.4466 - val_loss: 5.1846 - val_acc: 0.0431\n",
            "\n",
            "Epoch 00023: val_loss did not improve from 4.59219\n",
            "Epoch 24/50\n",
            "6680/6680 [==============================] - 12s 2ms/step - loss: 2.0168 - acc: 0.4560 - val_loss: 5.5885 - val_acc: 0.0479\n",
            "\n",
            "Epoch 00024: val_loss did not improve from 4.59219\n",
            "Epoch 25/50\n",
            "6680/6680 [==============================] - 12s 2ms/step - loss: 1.9618 - acc: 0.4675 - val_loss: 6.6311 - val_acc: 0.0539\n",
            "\n",
            "Epoch 00025: val_loss did not improve from 4.59219\n",
            "Epoch 26/50\n",
            "6680/6680 [==============================] - 12s 2ms/step - loss: 1.9527 - acc: 0.4723 - val_loss: 5.3284 - val_acc: 0.0431\n",
            "\n",
            "Epoch 00026: val_loss did not improve from 4.59219\n",
            "Epoch 27/50\n",
            "6680/6680 [==============================] - 12s 2ms/step - loss: 1.9161 - acc: 0.4835 - val_loss: 5.1263 - val_acc: 0.0467\n",
            "\n",
            "Epoch 00027: val_loss did not improve from 4.59219\n",
            "Epoch 28/50\n",
            "6680/6680 [==============================] - 12s 2ms/step - loss: 1.7939 - acc: 0.5081 - val_loss: 5.1147 - val_acc: 0.0383\n",
            "\n",
            "Epoch 00028: val_loss did not improve from 4.59219\n",
            "Epoch 29/50\n",
            "6680/6680 [==============================] - 12s 2ms/step - loss: 1.8178 - acc: 0.5085 - val_loss: 6.7041 - val_acc: 0.0623\n",
            "\n",
            "Epoch 00029: val_loss did not improve from 4.59219\n",
            "Epoch 30/50\n",
            "6680/6680 [==============================] - 12s 2ms/step - loss: 1.7890 - acc: 0.5186 - val_loss: 5.3054 - val_acc: 0.0503\n",
            "\n",
            "Epoch 00030: val_loss did not improve from 4.59219\n",
            "Epoch 31/50\n",
            "6680/6680 [==============================] - 12s 2ms/step - loss: 1.7858 - acc: 0.5202 - val_loss: 5.4058 - val_acc: 0.0431\n",
            "\n",
            "Epoch 00031: val_loss did not improve from 4.59219\n",
            "Epoch 32/50\n",
            "6680/6680 [==============================] - 12s 2ms/step - loss: 1.7566 - acc: 0.5193 - val_loss: 5.8249 - val_acc: 0.0407\n",
            "\n",
            "Epoch 00032: val_loss did not improve from 4.59219\n",
            "Epoch 33/50\n",
            "6680/6680 [==============================] - 12s 2ms/step - loss: 1.7395 - acc: 0.5225 - val_loss: 5.6454 - val_acc: 0.0359\n",
            "\n",
            "Epoch 00033: val_loss did not improve from 4.59219\n",
            "Epoch 34/50\n",
            "6680/6680 [==============================] - 12s 2ms/step - loss: 1.7146 - acc: 0.5380 - val_loss: 6.6184 - val_acc: 0.0491\n",
            "\n",
            "Epoch 00034: val_loss did not improve from 4.59219\n",
            "Epoch 35/50\n",
            "6680/6680 [==============================] - 12s 2ms/step - loss: 1.6975 - acc: 0.5418 - val_loss: 5.5340 - val_acc: 0.0371\n",
            "\n",
            "Epoch 00035: val_loss did not improve from 4.59219\n",
            "Epoch 36/50\n",
            "6680/6680 [==============================] - 12s 2ms/step - loss: 1.6934 - acc: 0.5458 - val_loss: 5.6864 - val_acc: 0.0383\n",
            "\n",
            "Epoch 00036: val_loss did not improve from 4.59219\n",
            "Epoch 37/50\n",
            "6680/6680 [==============================] - 12s 2ms/step - loss: 1.6669 - acc: 0.5543 - val_loss: 5.5528 - val_acc: 0.0311\n",
            "\n",
            "Epoch 00037: val_loss did not improve from 4.59219\n",
            "Epoch 38/50\n",
            "6680/6680 [==============================] - 12s 2ms/step - loss: 1.6474 - acc: 0.5540 - val_loss: 5.4409 - val_acc: 0.0407\n",
            "\n",
            "Epoch 00038: val_loss did not improve from 4.59219\n",
            "Epoch 39/50\n",
            "6680/6680 [==============================] - 12s 2ms/step - loss: 1.6588 - acc: 0.5493 - val_loss: 6.3286 - val_acc: 0.0491\n",
            "\n",
            "Epoch 00039: val_loss did not improve from 4.59219\n",
            "Epoch 40/50\n",
            "6680/6680 [==============================] - 12s 2ms/step - loss: 1.6293 - acc: 0.5657 - val_loss: 6.6893 - val_acc: 0.0323\n",
            "\n",
            "Epoch 00040: val_loss did not improve from 4.59219\n",
            "Epoch 41/50\n",
            "6680/6680 [==============================] - 12s 2ms/step - loss: 1.6308 - acc: 0.5522 - val_loss: 7.0668 - val_acc: 0.0371\n",
            "\n",
            "Epoch 00041: val_loss did not improve from 4.59219\n",
            "Epoch 42/50\n",
            "6680/6680 [==============================] - 12s 2ms/step - loss: 1.6238 - acc: 0.5579 - val_loss: 7.3207 - val_acc: 0.0443\n",
            "\n",
            "Epoch 00042: val_loss did not improve from 4.59219\n",
            "Epoch 43/50\n",
            "6680/6680 [==============================] - 12s 2ms/step - loss: 1.6170 - acc: 0.5635 - val_loss: 5.3996 - val_acc: 0.0311\n",
            "\n",
            "Epoch 00043: val_loss did not improve from 4.59219\n",
            "Epoch 44/50\n",
            "6680/6680 [==============================] - 12s 2ms/step - loss: 1.6112 - acc: 0.5692 - val_loss: 6.5495 - val_acc: 0.0419\n",
            "\n",
            "Epoch 00044: val_loss did not improve from 4.59219\n",
            "Epoch 45/50\n",
            "6680/6680 [==============================] - 12s 2ms/step - loss: 1.5695 - acc: 0.5811 - val_loss: 5.4092 - val_acc: 0.0251\n",
            "\n",
            "Epoch 00045: val_loss did not improve from 4.59219\n",
            "Epoch 46/50\n",
            "6680/6680 [==============================] - 12s 2ms/step - loss: 1.5686 - acc: 0.5868 - val_loss: 5.8774 - val_acc: 0.0395\n",
            "\n",
            "Epoch 00046: val_loss did not improve from 4.59219\n",
            "Epoch 47/50\n",
            "6680/6680 [==============================] - 12s 2ms/step - loss: 1.6145 - acc: 0.5644 - val_loss: 5.3165 - val_acc: 0.0287\n",
            "\n",
            "Epoch 00047: val_loss did not improve from 4.59219\n",
            "Epoch 48/50\n",
            "6680/6680 [==============================] - 12s 2ms/step - loss: 1.5708 - acc: 0.5849 - val_loss: 6.4642 - val_acc: 0.0371\n",
            "\n",
            "Epoch 00048: val_loss did not improve from 4.59219\n",
            "Epoch 49/50\n",
            "6680/6680 [==============================] - 12s 2ms/step - loss: 1.5731 - acc: 0.5802 - val_loss: 7.2756 - val_acc: 0.0479\n",
            "\n",
            "Epoch 00049: val_loss did not improve from 4.59219\n",
            "Epoch 50/50\n",
            "6680/6680 [==============================] - 12s 2ms/step - loss: 1.5016 - acc: 0.5946 - val_loss: 6.7495 - val_acc: 0.0371\n",
            "\n",
            "Epoch 00050: val_loss did not improve from 4.59219\n"
          ],
          "name": "stdout"
        },
        {
          "output_type": "execute_result",
          "data": {
            "text/plain": [
              "<keras.callbacks.History at 0x7efbf0426470>"
            ]
          },
          "metadata": {
            "tags": []
          },
          "execution_count": 34
        }
      ]
    },
    {
      "cell_type": "code",
      "metadata": {
        "id": "qmrr2GoQGnpF",
        "colab_type": "code",
        "colab": {}
      },
      "source": [
        "model.load_weights('/content/drive/My Drive/Colab Notebooks/dog-project/saved_models/weights.best.from_scratch.hdf5')"
      ],
      "execution_count": 0,
      "outputs": []
    },
    {
      "cell_type": "code",
      "metadata": {
        "id": "z6mOjDsAGwri",
        "colab_type": "code",
        "outputId": "98bc5b32-227b-467c-a5d9-026645d8d841",
        "colab": {
          "base_uri": "https://localhost:8080/",
          "height": 34
        }
      },
      "source": [
        "# get index of predicted dog breed for each image in test set\n",
        "dog_breed_predictions = [np.argmax(model.predict(np.expand_dims(tensor, axis=0))) for tensor in test_tensors]\n",
        "\n",
        "# report test accuracy\n",
        "test_accuracy = 100*np.sum(np.array(dog_breed_predictions)==np.argmax(test_targets, axis=1))/len(dog_breed_predictions)\n",
        "print('Test accuracy: %.4f%%' % test_accuracy)"
      ],
      "execution_count": 0,
      "outputs": [
        {
          "output_type": "stream",
          "text": [
            "Test accuracy: 3.7081%\n"
          ],
          "name": "stdout"
        }
      ]
    },
    {
      "cell_type": "code",
      "metadata": {
        "id": "F6DTYdmTGzob",
        "colab_type": "code",
        "colab": {}
      },
      "source": [
        "bottleneck_features = np.load('/content/drive/My Drive/Colab Notebooks/dog-project/bottleneck_features/DogVGG16Data.npz')\n",
        "train_VGG16 = bottleneck_features['train']\n",
        "valid_VGG16 = bottleneck_features['valid']\n",
        "test_VGG16 = bottleneck_features['test']"
      ],
      "execution_count": 0,
      "outputs": []
    },
    {
      "cell_type": "code",
      "metadata": {
        "id": "-LW5kUseNYFU",
        "colab_type": "code",
        "outputId": "d39b4b38-28d6-46a7-ea6c-c9db26e42f59",
        "colab": {
          "base_uri": "https://localhost:8080/",
          "height": 204
        }
      },
      "source": [
        "VGG16_model = Sequential()\n",
        "VGG16_model.add(GlobalAveragePooling2D(input_shape=train_VGG16.shape[1:]))\n",
        "VGG16_model.add(Dense(133, activation='softmax'))\n",
        "\n",
        "VGG16_model.summary()"
      ],
      "execution_count": 0,
      "outputs": [
        {
          "output_type": "stream",
          "text": [
            "_________________________________________________________________\n",
            "Layer (type)                 Output Shape              Param #   \n",
            "=================================================================\n",
            "global_average_pooling2d_1 ( (None, 512)               0         \n",
            "_________________________________________________________________\n",
            "dense_4 (Dense)              (None, 133)               68229     \n",
            "=================================================================\n",
            "Total params: 68,229\n",
            "Trainable params: 68,229\n",
            "Non-trainable params: 0\n",
            "_________________________________________________________________\n"
          ],
          "name": "stdout"
        }
      ]
    },
    {
      "cell_type": "code",
      "metadata": {
        "id": "0jigQM3iNc-R",
        "colab_type": "code",
        "colab": {}
      },
      "source": [
        "VGG16_model.compile(loss='categorical_crossentropy', optimizer='rmsprop', metrics=['accuracy'])"
      ],
      "execution_count": 0,
      "outputs": []
    },
    {
      "cell_type": "code",
      "metadata": {
        "id": "ExMzzsxZNhTY",
        "colab_type": "code",
        "outputId": "13b12ea6-b0d9-4b21-a720-dd60ddbd24a7",
        "colab": {
          "base_uri": "https://localhost:8080/",
          "height": 1000
        }
      },
      "source": [
        "checkpointer = ModelCheckpoint(filepath='/content/drive/My Drive/Colab Notebooks/dog-project/saved_models/weights.best.VGG16.hdf5', \n",
        "                               verbose=1, save_best_only=True)\n",
        "\n",
        "VGG16_model.fit(train_VGG16, train_targets, \n",
        "          validation_data=(valid_VGG16, valid_targets),\n",
        "          epochs=100, batch_size=20, callbacks=[checkpointer], verbose=1)"
      ],
      "execution_count": 0,
      "outputs": [
        {
          "output_type": "stream",
          "text": [
            "Train on 6680 samples, validate on 835 samples\n",
            "Epoch 1/100\n",
            "6680/6680 [==============================] - 2s 312us/step - loss: 11.5917 - acc: 0.1368 - val_loss: 9.7194 - val_acc: 0.2515\n",
            "\n",
            "Epoch 00001: val_loss improved from inf to 9.71940, saving model to /content/drive/My Drive/Colab Notebooks/dog-project/saved_models/weights.best.VGG16.hdf5\n",
            "Epoch 2/100\n",
            "6680/6680 [==============================] - 1s 201us/step - loss: 8.9003 - acc: 0.3235 - val_loss: 8.6964 - val_acc: 0.3329\n",
            "\n",
            "Epoch 00002: val_loss improved from 9.71940 to 8.69641, saving model to /content/drive/My Drive/Colab Notebooks/dog-project/saved_models/weights.best.VGG16.hdf5\n",
            "Epoch 3/100\n",
            "6680/6680 [==============================] - 1s 200us/step - loss: 8.1417 - acc: 0.4049 - val_loss: 8.2579 - val_acc: 0.3665\n",
            "\n",
            "Epoch 00003: val_loss improved from 8.69641 to 8.25789, saving model to /content/drive/My Drive/Colab Notebooks/dog-project/saved_models/weights.best.VGG16.hdf5\n",
            "Epoch 4/100\n",
            "6680/6680 [==============================] - 1s 204us/step - loss: 7.8371 - acc: 0.4485 - val_loss: 8.2377 - val_acc: 0.4012\n",
            "\n",
            "Epoch 00004: val_loss improved from 8.25789 to 8.23767, saving model to /content/drive/My Drive/Colab Notebooks/dog-project/saved_models/weights.best.VGG16.hdf5\n",
            "Epoch 5/100\n",
            "6680/6680 [==============================] - 1s 201us/step - loss: 7.6862 - acc: 0.4729 - val_loss: 8.2186 - val_acc: 0.3988\n",
            "\n",
            "Epoch 00005: val_loss improved from 8.23767 to 8.21864, saving model to /content/drive/My Drive/Colab Notebooks/dog-project/saved_models/weights.best.VGG16.hdf5\n",
            "Epoch 6/100\n",
            "6680/6680 [==============================] - 1s 201us/step - loss: 7.4716 - acc: 0.4931 - val_loss: 7.9662 - val_acc: 0.4036\n",
            "\n",
            "Epoch 00006: val_loss improved from 8.21864 to 7.96619, saving model to /content/drive/My Drive/Colab Notebooks/dog-project/saved_models/weights.best.VGG16.hdf5\n",
            "Epoch 7/100\n",
            "6680/6680 [==============================] - 1s 204us/step - loss: 7.2335 - acc: 0.5129 - val_loss: 7.8876 - val_acc: 0.4240\n",
            "\n",
            "Epoch 00007: val_loss improved from 7.96619 to 7.88759, saving model to /content/drive/My Drive/Colab Notebooks/dog-project/saved_models/weights.best.VGG16.hdf5\n",
            "Epoch 8/100\n",
            "6680/6680 [==============================] - 1s 202us/step - loss: 6.9486 - acc: 0.5313 - val_loss: 7.5685 - val_acc: 0.4479\n",
            "\n",
            "Epoch 00008: val_loss improved from 7.88759 to 7.56854, saving model to /content/drive/My Drive/Colab Notebooks/dog-project/saved_models/weights.best.VGG16.hdf5\n",
            "Epoch 9/100\n",
            "6680/6680 [==============================] - 1s 200us/step - loss: 6.8136 - acc: 0.5481 - val_loss: 7.4590 - val_acc: 0.4623\n",
            "\n",
            "Epoch 00009: val_loss improved from 7.56854 to 7.45902, saving model to /content/drive/My Drive/Colab Notebooks/dog-project/saved_models/weights.best.VGG16.hdf5\n",
            "Epoch 10/100\n",
            "6680/6680 [==============================] - 1s 200us/step - loss: 6.7472 - acc: 0.5600 - val_loss: 7.4990 - val_acc: 0.4515\n",
            "\n",
            "Epoch 00010: val_loss did not improve from 7.45902\n",
            "Epoch 11/100\n",
            "6680/6680 [==============================] - 1s 201us/step - loss: 6.6747 - acc: 0.5668 - val_loss: 7.3369 - val_acc: 0.4683\n",
            "\n",
            "Epoch 00011: val_loss improved from 7.45902 to 7.33690, saving model to /content/drive/My Drive/Colab Notebooks/dog-project/saved_models/weights.best.VGG16.hdf5\n",
            "Epoch 12/100\n",
            "6680/6680 [==============================] - 1s 199us/step - loss: 6.5130 - acc: 0.5786 - val_loss: 7.2959 - val_acc: 0.4563\n",
            "\n",
            "Epoch 00012: val_loss improved from 7.33690 to 7.29591, saving model to /content/drive/My Drive/Colab Notebooks/dog-project/saved_models/weights.best.VGG16.hdf5\n",
            "Epoch 13/100\n",
            "6680/6680 [==============================] - 1s 201us/step - loss: 6.4120 - acc: 0.5847 - val_loss: 7.1802 - val_acc: 0.4766\n",
            "\n",
            "Epoch 00013: val_loss improved from 7.29591 to 7.18023, saving model to /content/drive/My Drive/Colab Notebooks/dog-project/saved_models/weights.best.VGG16.hdf5\n",
            "Epoch 14/100\n",
            "6680/6680 [==============================] - 1s 202us/step - loss: 6.1756 - acc: 0.5921 - val_loss: 6.9625 - val_acc: 0.4946\n",
            "\n",
            "Epoch 00014: val_loss improved from 7.18023 to 6.96249, saving model to /content/drive/My Drive/Colab Notebooks/dog-project/saved_models/weights.best.VGG16.hdf5\n",
            "Epoch 15/100\n",
            "6680/6680 [==============================] - 1s 200us/step - loss: 5.9298 - acc: 0.6099 - val_loss: 6.8138 - val_acc: 0.4994\n",
            "\n",
            "Epoch 00015: val_loss improved from 6.96249 to 6.81376, saving model to /content/drive/My Drive/Colab Notebooks/dog-project/saved_models/weights.best.VGG16.hdf5\n",
            "Epoch 16/100\n",
            "6680/6680 [==============================] - 1s 202us/step - loss: 5.8164 - acc: 0.6222 - val_loss: 6.7277 - val_acc: 0.4958\n",
            "\n",
            "Epoch 00016: val_loss improved from 6.81376 to 6.72774, saving model to /content/drive/My Drive/Colab Notebooks/dog-project/saved_models/weights.best.VGG16.hdf5\n",
            "Epoch 17/100\n",
            "6680/6680 [==============================] - 1s 199us/step - loss: 5.6681 - acc: 0.6265 - val_loss: 6.6130 - val_acc: 0.5006\n",
            "\n",
            "Epoch 00017: val_loss improved from 6.72774 to 6.61296, saving model to /content/drive/My Drive/Colab Notebooks/dog-project/saved_models/weights.best.VGG16.hdf5\n",
            "Epoch 18/100\n",
            "6680/6680 [==============================] - 1s 203us/step - loss: 5.5475 - acc: 0.6409 - val_loss: 6.6100 - val_acc: 0.5054\n",
            "\n",
            "Epoch 00018: val_loss improved from 6.61296 to 6.60998, saving model to /content/drive/My Drive/Colab Notebooks/dog-project/saved_models/weights.best.VGG16.hdf5\n",
            "Epoch 19/100\n",
            "6680/6680 [==============================] - 1s 201us/step - loss: 5.4987 - acc: 0.6457 - val_loss: 6.5946 - val_acc: 0.5030\n",
            "\n",
            "Epoch 00019: val_loss improved from 6.60998 to 6.59459, saving model to /content/drive/My Drive/Colab Notebooks/dog-project/saved_models/weights.best.VGG16.hdf5\n",
            "Epoch 20/100\n",
            "6680/6680 [==============================] - 1s 200us/step - loss: 5.3974 - acc: 0.6460 - val_loss: 6.5162 - val_acc: 0.5018\n",
            "\n",
            "Epoch 00020: val_loss improved from 6.59459 to 6.51618, saving model to /content/drive/My Drive/Colab Notebooks/dog-project/saved_models/weights.best.VGG16.hdf5\n",
            "Epoch 21/100\n",
            "6680/6680 [==============================] - 1s 201us/step - loss: 5.3346 - acc: 0.6545 - val_loss: 6.4181 - val_acc: 0.5234\n",
            "\n",
            "Epoch 00021: val_loss improved from 6.51618 to 6.41806, saving model to /content/drive/My Drive/Colab Notebooks/dog-project/saved_models/weights.best.VGG16.hdf5\n",
            "Epoch 22/100\n",
            "6680/6680 [==============================] - 1s 202us/step - loss: 5.2215 - acc: 0.6561 - val_loss: 6.3137 - val_acc: 0.5078\n",
            "\n",
            "Epoch 00022: val_loss improved from 6.41806 to 6.31369, saving model to /content/drive/My Drive/Colab Notebooks/dog-project/saved_models/weights.best.VGG16.hdf5\n",
            "Epoch 23/100\n",
            "6680/6680 [==============================] - 1s 206us/step - loss: 5.1210 - acc: 0.6669 - val_loss: 6.2681 - val_acc: 0.5281\n",
            "\n",
            "Epoch 00023: val_loss improved from 6.31369 to 6.26806, saving model to /content/drive/My Drive/Colab Notebooks/dog-project/saved_models/weights.best.VGG16.hdf5\n",
            "Epoch 24/100\n",
            "6680/6680 [==============================] - 1s 205us/step - loss: 5.0898 - acc: 0.6732 - val_loss: 6.2594 - val_acc: 0.5269\n",
            "\n",
            "Epoch 00024: val_loss improved from 6.26806 to 6.25945, saving model to /content/drive/My Drive/Colab Notebooks/dog-project/saved_models/weights.best.VGG16.hdf5\n",
            "Epoch 25/100\n",
            "6680/6680 [==============================] - 1s 204us/step - loss: 5.0342 - acc: 0.6744 - val_loss: 6.2382 - val_acc: 0.5198\n",
            "\n",
            "Epoch 00025: val_loss improved from 6.25945 to 6.23825, saving model to /content/drive/My Drive/Colab Notebooks/dog-project/saved_models/weights.best.VGG16.hdf5\n",
            "Epoch 26/100\n",
            "6680/6680 [==============================] - 1s 204us/step - loss: 4.9843 - acc: 0.6814 - val_loss: 6.1857 - val_acc: 0.5281\n",
            "\n",
            "Epoch 00026: val_loss improved from 6.23825 to 6.18575, saving model to /content/drive/My Drive/Colab Notebooks/dog-project/saved_models/weights.best.VGG16.hdf5\n",
            "Epoch 27/100\n",
            "6680/6680 [==============================] - 1s 204us/step - loss: 4.9435 - acc: 0.6835 - val_loss: 6.2238 - val_acc: 0.5222\n",
            "\n",
            "Epoch 00027: val_loss did not improve from 6.18575\n",
            "Epoch 28/100\n",
            "6680/6680 [==============================] - 1s 206us/step - loss: 4.8761 - acc: 0.6852 - val_loss: 6.2035 - val_acc: 0.5281\n",
            "\n",
            "Epoch 00028: val_loss did not improve from 6.18575\n",
            "Epoch 29/100\n",
            "6680/6680 [==============================] - 1s 204us/step - loss: 4.8398 - acc: 0.6919 - val_loss: 6.1268 - val_acc: 0.5293\n",
            "\n",
            "Epoch 00029: val_loss improved from 6.18575 to 6.12676, saving model to /content/drive/My Drive/Colab Notebooks/dog-project/saved_models/weights.best.VGG16.hdf5\n",
            "Epoch 30/100\n",
            "6680/6680 [==============================] - 1s 204us/step - loss: 4.8206 - acc: 0.6958 - val_loss: 6.1452 - val_acc: 0.5341\n",
            "\n",
            "Epoch 00030: val_loss did not improve from 6.12676\n",
            "Epoch 31/100\n",
            "6680/6680 [==============================] - 1s 203us/step - loss: 4.8121 - acc: 0.6976 - val_loss: 6.1550 - val_acc: 0.5353\n",
            "\n",
            "Epoch 00031: val_loss did not improve from 6.12676\n",
            "Epoch 32/100\n",
            "6680/6680 [==============================] - 1s 202us/step - loss: 4.8028 - acc: 0.6982 - val_loss: 6.1455 - val_acc: 0.5425\n",
            "\n",
            "Epoch 00032: val_loss did not improve from 6.12676\n",
            "Epoch 33/100\n",
            "6680/6680 [==============================] - 1s 205us/step - loss: 4.7920 - acc: 0.6978 - val_loss: 6.0823 - val_acc: 0.5329\n",
            "\n",
            "Epoch 00033: val_loss improved from 6.12676 to 6.08229, saving model to /content/drive/My Drive/Colab Notebooks/dog-project/saved_models/weights.best.VGG16.hdf5\n",
            "Epoch 34/100\n",
            "6680/6680 [==============================] - 1s 205us/step - loss: 4.7461 - acc: 0.6987 - val_loss: 6.1217 - val_acc: 0.5293\n",
            "\n",
            "Epoch 00034: val_loss did not improve from 6.08229\n",
            "Epoch 35/100\n",
            "6680/6680 [==============================] - 1s 203us/step - loss: 4.6562 - acc: 0.7009 - val_loss: 6.0303 - val_acc: 0.5365\n",
            "\n",
            "Epoch 00035: val_loss improved from 6.08229 to 6.03032, saving model to /content/drive/My Drive/Colab Notebooks/dog-project/saved_models/weights.best.VGG16.hdf5\n",
            "Epoch 36/100\n",
            "6680/6680 [==============================] - 1s 202us/step - loss: 4.5474 - acc: 0.7111 - val_loss: 5.9711 - val_acc: 0.5485\n",
            "\n",
            "Epoch 00036: val_loss improved from 6.03032 to 5.97109, saving model to /content/drive/My Drive/Colab Notebooks/dog-project/saved_models/weights.best.VGG16.hdf5\n",
            "Epoch 37/100\n",
            "6680/6680 [==============================] - 1s 204us/step - loss: 4.5102 - acc: 0.7144 - val_loss: 5.9355 - val_acc: 0.5401\n",
            "\n",
            "Epoch 00037: val_loss improved from 5.97109 to 5.93553, saving model to /content/drive/My Drive/Colab Notebooks/dog-project/saved_models/weights.best.VGG16.hdf5\n",
            "Epoch 38/100\n",
            "6680/6680 [==============================] - 1s 201us/step - loss: 4.4469 - acc: 0.7174 - val_loss: 5.9918 - val_acc: 0.5413\n",
            "\n",
            "Epoch 00038: val_loss did not improve from 5.93553\n",
            "Epoch 39/100\n",
            "6680/6680 [==============================] - 1s 200us/step - loss: 4.4113 - acc: 0.7216 - val_loss: 5.8871 - val_acc: 0.5497\n",
            "\n",
            "Epoch 00039: val_loss improved from 5.93553 to 5.88715, saving model to /content/drive/My Drive/Colab Notebooks/dog-project/saved_models/weights.best.VGG16.hdf5\n",
            "Epoch 40/100\n",
            "6680/6680 [==============================] - 1s 202us/step - loss: 4.3771 - acc: 0.7226 - val_loss: 5.8633 - val_acc: 0.5473\n",
            "\n",
            "Epoch 00040: val_loss improved from 5.88715 to 5.86327, saving model to /content/drive/My Drive/Colab Notebooks/dog-project/saved_models/weights.best.VGG16.hdf5\n",
            "Epoch 41/100\n",
            "6680/6680 [==============================] - 1s 203us/step - loss: 4.2343 - acc: 0.7266 - val_loss: 5.7111 - val_acc: 0.5653\n",
            "\n",
            "Epoch 00041: val_loss improved from 5.86327 to 5.71112, saving model to /content/drive/My Drive/Colab Notebooks/dog-project/saved_models/weights.best.VGG16.hdf5\n",
            "Epoch 42/100\n",
            "6680/6680 [==============================] - 1s 201us/step - loss: 4.1648 - acc: 0.7335 - val_loss: 5.6489 - val_acc: 0.5665\n",
            "\n",
            "Epoch 00042: val_loss improved from 5.71112 to 5.64885, saving model to /content/drive/My Drive/Colab Notebooks/dog-project/saved_models/weights.best.VGG16.hdf5\n",
            "Epoch 43/100\n",
            "6680/6680 [==============================] - 1s 199us/step - loss: 4.1413 - acc: 0.7374 - val_loss: 5.7217 - val_acc: 0.5641\n",
            "\n",
            "Epoch 00043: val_loss did not improve from 5.64885\n",
            "Epoch 44/100\n",
            "6680/6680 [==============================] - 1s 199us/step - loss: 4.1251 - acc: 0.7401 - val_loss: 5.6767 - val_acc: 0.5581\n",
            "\n",
            "Epoch 00044: val_loss did not improve from 5.64885\n",
            "Epoch 45/100\n",
            "6680/6680 [==============================] - 1s 199us/step - loss: 4.1174 - acc: 0.7400 - val_loss: 5.6380 - val_acc: 0.5760\n",
            "\n",
            "Epoch 00045: val_loss improved from 5.64885 to 5.63796, saving model to /content/drive/My Drive/Colab Notebooks/dog-project/saved_models/weights.best.VGG16.hdf5\n",
            "Epoch 46/100\n",
            "6680/6680 [==============================] - 1s 210us/step - loss: 4.1176 - acc: 0.7409 - val_loss: 5.5892 - val_acc: 0.5665\n",
            "\n",
            "Epoch 00046: val_loss improved from 5.63796 to 5.58925, saving model to /content/drive/My Drive/Colab Notebooks/dog-project/saved_models/weights.best.VGG16.hdf5\n",
            "Epoch 47/100\n",
            "6680/6680 [==============================] - 1s 205us/step - loss: 4.1092 - acc: 0.7428 - val_loss: 5.6335 - val_acc: 0.5725\n",
            "\n",
            "Epoch 00047: val_loss did not improve from 5.58925\n",
            "Epoch 48/100\n",
            "6680/6680 [==============================] - 1s 205us/step - loss: 4.1079 - acc: 0.7437 - val_loss: 5.6588 - val_acc: 0.5749\n",
            "\n",
            "Epoch 00048: val_loss did not improve from 5.58925\n",
            "Epoch 49/100\n",
            "6680/6680 [==============================] - 1s 207us/step - loss: 4.1052 - acc: 0.7430 - val_loss: 5.5470 - val_acc: 0.5737\n",
            "\n",
            "Epoch 00049: val_loss improved from 5.58925 to 5.54697, saving model to /content/drive/My Drive/Colab Notebooks/dog-project/saved_models/weights.best.VGG16.hdf5\n",
            "Epoch 50/100\n",
            "6680/6680 [==============================] - 1s 201us/step - loss: 4.1005 - acc: 0.7442 - val_loss: 5.5549 - val_acc: 0.5772\n",
            "\n",
            "Epoch 00050: val_loss did not improve from 5.54697\n",
            "Epoch 51/100\n",
            "6680/6680 [==============================] - 1s 199us/step - loss: 4.0961 - acc: 0.7451 - val_loss: 5.5998 - val_acc: 0.5796\n",
            "\n",
            "Epoch 00051: val_loss did not improve from 5.54697\n",
            "Epoch 52/100\n",
            "6680/6680 [==============================] - 1s 200us/step - loss: 4.0986 - acc: 0.7446 - val_loss: 5.5831 - val_acc: 0.5796\n",
            "\n",
            "Epoch 00052: val_loss did not improve from 5.54697\n",
            "Epoch 53/100\n",
            "6680/6680 [==============================] - 1s 198us/step - loss: 4.1018 - acc: 0.7440 - val_loss: 5.5636 - val_acc: 0.5808\n",
            "\n",
            "Epoch 00053: val_loss did not improve from 5.54697\n",
            "Epoch 54/100\n",
            "6680/6680 [==============================] - 1s 199us/step - loss: 4.0956 - acc: 0.7451 - val_loss: 5.6213 - val_acc: 0.5749\n",
            "\n",
            "Epoch 00054: val_loss did not improve from 5.54697\n",
            "Epoch 55/100\n",
            "6680/6680 [==============================] - 1s 202us/step - loss: 4.0947 - acc: 0.7452 - val_loss: 5.5812 - val_acc: 0.5844\n",
            "\n",
            "Epoch 00055: val_loss did not improve from 5.54697\n",
            "Epoch 56/100\n",
            "6680/6680 [==============================] - 1s 200us/step - loss: 4.0933 - acc: 0.7451 - val_loss: 5.5711 - val_acc: 0.5784\n",
            "\n",
            "Epoch 00056: val_loss did not improve from 5.54697\n",
            "Epoch 57/100\n",
            "6680/6680 [==============================] - 1s 203us/step - loss: 4.0826 - acc: 0.7433 - val_loss: 5.6356 - val_acc: 0.5737\n",
            "\n",
            "Epoch 00057: val_loss did not improve from 5.54697\n",
            "Epoch 58/100\n",
            "6680/6680 [==============================] - 1s 203us/step - loss: 4.0350 - acc: 0.7467 - val_loss: 5.5496 - val_acc: 0.5796\n",
            "\n",
            "Epoch 00058: val_loss did not improve from 5.54697\n",
            "Epoch 59/100\n",
            "6680/6680 [==============================] - 1s 199us/step - loss: 4.0162 - acc: 0.7497 - val_loss: 5.5308 - val_acc: 0.5880\n",
            "\n",
            "Epoch 00059: val_loss improved from 5.54697 to 5.53076, saving model to /content/drive/My Drive/Colab Notebooks/dog-project/saved_models/weights.best.VGG16.hdf5\n",
            "Epoch 60/100\n",
            "6680/6680 [==============================] - 1s 201us/step - loss: 4.0139 - acc: 0.7501 - val_loss: 5.5207 - val_acc: 0.5844\n",
            "\n",
            "Epoch 00060: val_loss improved from 5.53076 to 5.52068, saving model to /content/drive/My Drive/Colab Notebooks/dog-project/saved_models/weights.best.VGG16.hdf5\n",
            "Epoch 61/100\n",
            "6680/6680 [==============================] - 1s 205us/step - loss: 4.0129 - acc: 0.7501 - val_loss: 5.4314 - val_acc: 0.5868\n",
            "\n",
            "Epoch 00061: val_loss improved from 5.52068 to 5.43140, saving model to /content/drive/My Drive/Colab Notebooks/dog-project/saved_models/weights.best.VGG16.hdf5\n",
            "Epoch 62/100\n",
            "6680/6680 [==============================] - 1s 205us/step - loss: 4.0113 - acc: 0.7510 - val_loss: 5.5738 - val_acc: 0.5784\n",
            "\n",
            "Epoch 00062: val_loss did not improve from 5.43140\n",
            "Epoch 63/100\n",
            "6680/6680 [==============================] - 1s 200us/step - loss: 4.0095 - acc: 0.7506 - val_loss: 5.5915 - val_acc: 0.5784\n",
            "\n",
            "Epoch 00063: val_loss did not improve from 5.43140\n",
            "Epoch 64/100\n",
            "6680/6680 [==============================] - 1s 201us/step - loss: 4.0065 - acc: 0.7509 - val_loss: 5.5199 - val_acc: 0.5940\n",
            "\n",
            "Epoch 00064: val_loss did not improve from 5.43140\n",
            "Epoch 65/100\n",
            "6680/6680 [==============================] - 1s 201us/step - loss: 3.9981 - acc: 0.7497 - val_loss: 5.5987 - val_acc: 0.5784\n",
            "\n",
            "Epoch 00065: val_loss did not improve from 5.43140\n",
            "Epoch 66/100\n",
            "6680/6680 [==============================] - 1s 197us/step - loss: 3.9138 - acc: 0.7491 - val_loss: 5.6080 - val_acc: 0.5689\n",
            "\n",
            "Epoch 00066: val_loss did not improve from 5.43140\n",
            "Epoch 67/100\n",
            "6680/6680 [==============================] - 1s 202us/step - loss: 3.8476 - acc: 0.7551 - val_loss: 5.5545 - val_acc: 0.5808\n",
            "\n",
            "Epoch 00067: val_loss did not improve from 5.43140\n",
            "Epoch 68/100\n",
            "6680/6680 [==============================] - 1s 199us/step - loss: 3.8267 - acc: 0.7576 - val_loss: 5.5773 - val_acc: 0.5749\n",
            "\n",
            "Epoch 00068: val_loss did not improve from 5.43140\n",
            "Epoch 69/100\n",
            "6680/6680 [==============================] - 1s 198us/step - loss: 3.8167 - acc: 0.7588 - val_loss: 5.5238 - val_acc: 0.5796\n",
            "\n",
            "Epoch 00069: val_loss did not improve from 5.43140\n",
            "Epoch 70/100\n",
            "6680/6680 [==============================] - 1s 204us/step - loss: 3.8115 - acc: 0.7594 - val_loss: 5.5357 - val_acc: 0.5760\n",
            "\n",
            "Epoch 00070: val_loss did not improve from 5.43140\n",
            "Epoch 71/100\n",
            "6680/6680 [==============================] - 1s 202us/step - loss: 3.7945 - acc: 0.7615 - val_loss: 5.4801 - val_acc: 0.5880\n",
            "\n",
            "Epoch 00071: val_loss did not improve from 5.43140\n",
            "Epoch 72/100\n",
            "6680/6680 [==============================] - 1s 198us/step - loss: 3.7937 - acc: 0.7609 - val_loss: 5.4396 - val_acc: 0.5832\n",
            "\n",
            "Epoch 00072: val_loss did not improve from 5.43140\n",
            "Epoch 73/100\n",
            "6680/6680 [==============================] - 1s 204us/step - loss: 3.7909 - acc: 0.7626 - val_loss: 5.4256 - val_acc: 0.5820\n",
            "\n",
            "Epoch 00073: val_loss improved from 5.43140 to 5.42560, saving model to /content/drive/My Drive/Colab Notebooks/dog-project/saved_models/weights.best.VGG16.hdf5\n",
            "Epoch 74/100\n",
            "6680/6680 [==============================] - 1s 200us/step - loss: 3.7871 - acc: 0.7627 - val_loss: 5.4383 - val_acc: 0.5880\n",
            "\n",
            "Epoch 00074: val_loss did not improve from 5.42560\n",
            "Epoch 75/100\n",
            "6680/6680 [==============================] - 1s 200us/step - loss: 3.7869 - acc: 0.7627 - val_loss: 5.5166 - val_acc: 0.5892\n",
            "\n",
            "Epoch 00075: val_loss did not improve from 5.42560\n",
            "Epoch 76/100\n",
            "6680/6680 [==============================] - 1s 203us/step - loss: 3.7824 - acc: 0.7639 - val_loss: 5.4997 - val_acc: 0.5856\n",
            "\n",
            "Epoch 00076: val_loss did not improve from 5.42560\n",
            "Epoch 77/100\n",
            "6680/6680 [==============================] - 1s 203us/step - loss: 3.7819 - acc: 0.7636 - val_loss: 5.5097 - val_acc: 0.5844\n",
            "\n",
            "Epoch 00077: val_loss did not improve from 5.42560\n",
            "Epoch 78/100\n",
            "6680/6680 [==============================] - 1s 201us/step - loss: 3.7774 - acc: 0.7633 - val_loss: 5.4884 - val_acc: 0.5856\n",
            "\n",
            "Epoch 00078: val_loss did not improve from 5.42560\n",
            "Epoch 79/100\n",
            "6680/6680 [==============================] - 1s 201us/step - loss: 3.7413 - acc: 0.7644 - val_loss: 5.4537 - val_acc: 0.5808\n",
            "\n",
            "Epoch 00079: val_loss did not improve from 5.42560\n",
            "Epoch 80/100\n",
            "6680/6680 [==============================] - 1s 202us/step - loss: 3.7274 - acc: 0.7666 - val_loss: 5.4893 - val_acc: 0.5832\n",
            "\n",
            "Epoch 00080: val_loss did not improve from 5.42560\n",
            "Epoch 81/100\n",
            "6680/6680 [==============================] - 1s 201us/step - loss: 3.7225 - acc: 0.7678 - val_loss: 5.4487 - val_acc: 0.5856\n",
            "\n",
            "Epoch 00081: val_loss did not improve from 5.42560\n",
            "Epoch 82/100\n",
            "6680/6680 [==============================] - 1s 199us/step - loss: 3.7180 - acc: 0.7687 - val_loss: 5.3830 - val_acc: 0.5928\n",
            "\n",
            "Epoch 00082: val_loss improved from 5.42560 to 5.38301, saving model to /content/drive/My Drive/Colab Notebooks/dog-project/saved_models/weights.best.VGG16.hdf5\n",
            "Epoch 83/100\n",
            "6680/6680 [==============================] - 1s 197us/step - loss: 3.7166 - acc: 0.7689 - val_loss: 5.3593 - val_acc: 0.5964\n",
            "\n",
            "Epoch 00083: val_loss improved from 5.38301 to 5.35930, saving model to /content/drive/My Drive/Colab Notebooks/dog-project/saved_models/weights.best.VGG16.hdf5\n",
            "Epoch 84/100\n",
            "6680/6680 [==============================] - 1s 197us/step - loss: 3.7197 - acc: 0.7686 - val_loss: 5.3888 - val_acc: 0.5892\n",
            "\n",
            "Epoch 00084: val_loss did not improve from 5.35930\n",
            "Epoch 85/100\n",
            "6680/6680 [==============================] - 1s 205us/step - loss: 3.7188 - acc: 0.7687 - val_loss: 5.4376 - val_acc: 0.5892\n",
            "\n",
            "Epoch 00085: val_loss did not improve from 5.35930\n",
            "Epoch 86/100\n",
            "6680/6680 [==============================] - 1s 200us/step - loss: 3.7175 - acc: 0.7690 - val_loss: 5.3973 - val_acc: 0.5988\n",
            "\n",
            "Epoch 00086: val_loss did not improve from 5.35930\n",
            "Epoch 87/100\n",
            "6680/6680 [==============================] - 1s 202us/step - loss: 3.7178 - acc: 0.7678 - val_loss: 5.4144 - val_acc: 0.5892\n",
            "\n",
            "Epoch 00087: val_loss did not improve from 5.35930\n",
            "Epoch 88/100\n",
            "6680/6680 [==============================] - 1s 201us/step - loss: 3.6581 - acc: 0.7677 - val_loss: 5.4220 - val_acc: 0.5904\n",
            "\n",
            "Epoch 00088: val_loss did not improve from 5.35930\n",
            "Epoch 89/100\n",
            "6680/6680 [==============================] - 1s 205us/step - loss: 3.5873 - acc: 0.7729 - val_loss: 5.3498 - val_acc: 0.5928\n",
            "\n",
            "Epoch 00089: val_loss improved from 5.35930 to 5.34980, saving model to /content/drive/My Drive/Colab Notebooks/dog-project/saved_models/weights.best.VGG16.hdf5\n",
            "Epoch 90/100\n",
            "6680/6680 [==============================] - 1s 199us/step - loss: 3.5654 - acc: 0.7757 - val_loss: 5.2667 - val_acc: 0.6012\n",
            "\n",
            "Epoch 00090: val_loss improved from 5.34980 to 5.26666, saving model to /content/drive/My Drive/Colab Notebooks/dog-project/saved_models/weights.best.VGG16.hdf5\n",
            "Epoch 91/100\n",
            "6680/6680 [==============================] - 1s 205us/step - loss: 3.5591 - acc: 0.7771 - val_loss: 5.2952 - val_acc: 0.6072\n",
            "\n",
            "Epoch 00091: val_loss did not improve from 5.26666\n",
            "Epoch 92/100\n",
            "6680/6680 [==============================] - 1s 205us/step - loss: 3.5504 - acc: 0.7786 - val_loss: 5.2653 - val_acc: 0.5940\n",
            "\n",
            "Epoch 00092: val_loss improved from 5.26666 to 5.26531, saving model to /content/drive/My Drive/Colab Notebooks/dog-project/saved_models/weights.best.VGG16.hdf5\n",
            "Epoch 93/100\n",
            "6680/6680 [==============================] - 1s 199us/step - loss: 3.5412 - acc: 0.7771 - val_loss: 5.3599 - val_acc: 0.5940\n",
            "\n",
            "Epoch 00093: val_loss did not improve from 5.26531\n",
            "Epoch 94/100\n",
            "6680/6680 [==============================] - 1s 204us/step - loss: 3.5187 - acc: 0.7789 - val_loss: 5.2985 - val_acc: 0.5916\n",
            "\n",
            "Epoch 00094: val_loss did not improve from 5.26531\n",
            "Epoch 95/100\n",
            "6680/6680 [==============================] - 1s 199us/step - loss: 3.4956 - acc: 0.7807 - val_loss: 5.2688 - val_acc: 0.5964\n",
            "\n",
            "Epoch 00095: val_loss did not improve from 5.26531\n",
            "Epoch 96/100\n",
            "6680/6680 [==============================] - 1s 199us/step - loss: 3.4855 - acc: 0.7817 - val_loss: 5.2287 - val_acc: 0.6024\n",
            "\n",
            "Epoch 00096: val_loss improved from 5.26531 to 5.22871, saving model to /content/drive/My Drive/Colab Notebooks/dog-project/saved_models/weights.best.VGG16.hdf5\n",
            "Epoch 97/100\n",
            "6680/6680 [==============================] - 1s 200us/step - loss: 3.4534 - acc: 0.7829 - val_loss: 5.3021 - val_acc: 0.6024\n",
            "\n",
            "Epoch 00097: val_loss did not improve from 5.22871\n",
            "Epoch 98/100\n",
            "6680/6680 [==============================] - 1s 199us/step - loss: 3.4289 - acc: 0.7838 - val_loss: 5.2127 - val_acc: 0.6012\n",
            "\n",
            "Epoch 00098: val_loss improved from 5.22871 to 5.21270, saving model to /content/drive/My Drive/Colab Notebooks/dog-project/saved_models/weights.best.VGG16.hdf5\n",
            "Epoch 99/100\n",
            "6680/6680 [==============================] - 1s 199us/step - loss: 3.4176 - acc: 0.7858 - val_loss: 5.2402 - val_acc: 0.6048\n",
            "\n",
            "Epoch 00099: val_loss did not improve from 5.21270\n",
            "Epoch 100/100\n",
            "6680/6680 [==============================] - 1s 201us/step - loss: 3.4118 - acc: 0.7867 - val_loss: 5.2302 - val_acc: 0.6048\n",
            "\n",
            "Epoch 00100: val_loss did not improve from 5.21270\n"
          ],
          "name": "stdout"
        },
        {
          "output_type": "execute_result",
          "data": {
            "text/plain": [
              "<keras.callbacks.History at 0x7ef891821240>"
            ]
          },
          "metadata": {
            "tags": []
          },
          "execution_count": 40
        }
      ]
    },
    {
      "cell_type": "code",
      "metadata": {
        "id": "b-woQpMCN23D",
        "colab_type": "code",
        "colab": {}
      },
      "source": [
        "VGG16_model.load_weights('/content/drive/My Drive/Colab Notebooks/dog-project/saved_models/weights.best.VGG16.hdf5')"
      ],
      "execution_count": 0,
      "outputs": []
    },
    {
      "cell_type": "code",
      "metadata": {
        "id": "1Yu0Z65HOK9W",
        "colab_type": "code",
        "outputId": "7d7377ba-05ce-49fc-ed96-396a2a8441fb",
        "colab": {
          "base_uri": "https://localhost:8080/",
          "height": 34
        }
      },
      "source": [
        "VGG16_predictions = [np.argmax(VGG16_model.predict(np.expand_dims(feature, axis=0))) for feature in test_VGG16]\n",
        "\n",
        "# report test accuracy\n",
        "test_accuracy = 100*np.sum(np.array(VGG16_predictions)==np.argmax(test_targets, axis=1))/len(VGG16_predictions)\n",
        "print('Test accuracy: %.4f%%' % test_accuracy)"
      ],
      "execution_count": 0,
      "outputs": [
        {
          "output_type": "stream",
          "text": [
            "Test accuracy: 61.1244%\n"
          ],
          "name": "stdout"
        }
      ]
    },
    {
      "cell_type": "code",
      "metadata": {
        "id": "wqz8u1HDTGCe",
        "colab_type": "code",
        "colab": {}
      },
      "source": [
        "bottleneck_features = np.load('/content/drive/My Drive/Colab Notebooks/dog-project/bottleneck_features/DogResnet50Data.npz')\n",
        "train_RESNET50 = bottleneck_features['train']\n",
        "valid_RESNET50 = bottleneck_features['valid']\n",
        "test_RESNET50 = bottleneck_features['test']"
      ],
      "execution_count": 0,
      "outputs": []
    },
    {
      "cell_type": "code",
      "metadata": {
        "id": "2wx1syIlUery",
        "colab_type": "code",
        "outputId": "c4e94e52-23c0-4b54-8944-defaf60d1501",
        "colab": {
          "base_uri": "https://localhost:8080/",
          "height": 340
        }
      },
      "source": [
        "from keras.layers import Dropout\n",
        "\n",
        "modelTransfer = Sequential()\n",
        "modelTransfer.add(GlobalAveragePooling2D(input_shape=train_RESNET50.shape[1:]))\n",
        "modelTransfer.add(Dense(400, activation='relu'))\n",
        "modelTransfer.add(Dropout(0.2))\n",
        "modelTransfer.add(Dense(200, activation='relu'))\n",
        "modelTransfer.add(Dropout(0.2))\n",
        "modelTransfer.add(Dense(133, activation='softmax'))\n",
        "\n",
        "modelTransfer.summary()"
      ],
      "execution_count": 0,
      "outputs": [
        {
          "output_type": "stream",
          "text": [
            "_________________________________________________________________\n",
            "Layer (type)                 Output Shape              Param #   \n",
            "=================================================================\n",
            "global_average_pooling2d_2 ( (None, 2048)              0         \n",
            "_________________________________________________________________\n",
            "dense_5 (Dense)              (None, 400)               819600    \n",
            "_________________________________________________________________\n",
            "dropout_3 (Dropout)          (None, 400)               0         \n",
            "_________________________________________________________________\n",
            "dense_6 (Dense)              (None, 200)               80200     \n",
            "_________________________________________________________________\n",
            "dropout_4 (Dropout)          (None, 200)               0         \n",
            "_________________________________________________________________\n",
            "dense_7 (Dense)              (None, 133)               26733     \n",
            "=================================================================\n",
            "Total params: 926,533\n",
            "Trainable params: 926,533\n",
            "Non-trainable params: 0\n",
            "_________________________________________________________________\n"
          ],
          "name": "stdout"
        }
      ]
    },
    {
      "cell_type": "code",
      "metadata": {
        "id": "57voxgPtUjBR",
        "colab_type": "code",
        "colab": {}
      },
      "source": [
        "modelTransfer.compile(loss='categorical_crossentropy', optimizer='rmsprop', metrics=['accuracy'])"
      ],
      "execution_count": 0,
      "outputs": []
    },
    {
      "cell_type": "code",
      "metadata": {
        "id": "ThI4qDjEUnBc",
        "colab_type": "code",
        "outputId": "3013215d-17e1-4bf6-e501-5f1b2d24c90e",
        "colab": {
          "base_uri": "https://localhost:8080/",
          "height": 1000
        }
      },
      "source": [
        "from keras.callbacks import ModelCheckpoint \n",
        "\n",
        "checkpointer = ModelCheckpoint(filepath='/content/drive/My Drive/Colab Notebooks/dog-project/saved_models/weights.best4.RESNET50.hdf5', \n",
        "                               verbose=1, save_best_only=True)\n",
        "\n",
        "modelTransfer.fit(train_RESNET50, train_targets, \n",
        "          validation_data=(valid_RESNET50, valid_targets),\n",
        "          epochs=50, batch_size=125, callbacks=[checkpointer], verbose=1)"
      ],
      "execution_count": 0,
      "outputs": [
        {
          "output_type": "stream",
          "text": [
            "Train on 6680 samples, validate on 835 samples\n",
            "Epoch 1/50\n",
            "6680/6680 [==============================] - 0s 39us/step - loss: 0.1348 - acc: 0.9512 - val_loss: 0.7962 - val_acc: 0.8084\n",
            "\n",
            "Epoch 00001: val_loss improved from inf to 0.79625, saving model to /content/drive/My Drive/Colab Notebooks/dog-project/saved_models/weights.best4.RESNET50.hdf5\n",
            "Epoch 2/50\n",
            "6680/6680 [==============================] - 0s 41us/step - loss: 0.1176 - acc: 0.9609 - val_loss: 0.8093 - val_acc: 0.8168\n",
            "\n",
            "Epoch 00002: val_loss did not improve from 0.79625\n",
            "Epoch 3/50\n",
            "6680/6680 [==============================] - 0s 38us/step - loss: 0.1184 - acc: 0.9611 - val_loss: 0.8605 - val_acc: 0.8168\n",
            "\n",
            "Epoch 00003: val_loss did not improve from 0.79625\n",
            "Epoch 4/50\n",
            "6680/6680 [==============================] - 0s 39us/step - loss: 0.0992 - acc: 0.9647 - val_loss: 0.9525 - val_acc: 0.7952\n",
            "\n",
            "Epoch 00004: val_loss did not improve from 0.79625\n",
            "Epoch 5/50\n",
            "6680/6680 [==============================] - 0s 38us/step - loss: 0.0934 - acc: 0.9684 - val_loss: 0.8573 - val_acc: 0.7832\n",
            "\n",
            "Epoch 00005: val_loss did not improve from 0.79625\n",
            "Epoch 6/50\n",
            "6680/6680 [==============================] - 0s 40us/step - loss: 0.0886 - acc: 0.9699 - val_loss: 0.8386 - val_acc: 0.8036\n",
            "\n",
            "Epoch 00006: val_loss did not improve from 0.79625\n",
            "Epoch 7/50\n",
            "6680/6680 [==============================] - 0s 38us/step - loss: 0.0880 - acc: 0.9704 - val_loss: 0.8863 - val_acc: 0.8012\n",
            "\n",
            "Epoch 00007: val_loss did not improve from 0.79625\n",
            "Epoch 8/50\n",
            "6680/6680 [==============================] - 0s 39us/step - loss: 0.0817 - acc: 0.9714 - val_loss: 0.8157 - val_acc: 0.8299\n",
            "\n",
            "Epoch 00008: val_loss did not improve from 0.79625\n",
            "Epoch 9/50\n",
            "6680/6680 [==============================] - 0s 39us/step - loss: 0.0757 - acc: 0.9760 - val_loss: 0.8621 - val_acc: 0.8096\n",
            "\n",
            "Epoch 00009: val_loss did not improve from 0.79625\n",
            "Epoch 10/50\n",
            "6680/6680 [==============================] - 0s 38us/step - loss: 0.0757 - acc: 0.9749 - val_loss: 0.8620 - val_acc: 0.8204\n",
            "\n",
            "Epoch 00010: val_loss did not improve from 0.79625\n",
            "Epoch 11/50\n",
            "6680/6680 [==============================] - 0s 40us/step - loss: 0.0672 - acc: 0.9790 - val_loss: 0.9562 - val_acc: 0.8036\n",
            "\n",
            "Epoch 00011: val_loss did not improve from 0.79625\n",
            "Epoch 12/50\n",
            "6680/6680 [==============================] - 0s 38us/step - loss: 0.0815 - acc: 0.9731 - val_loss: 0.9082 - val_acc: 0.8084\n",
            "\n",
            "Epoch 00012: val_loss did not improve from 0.79625\n",
            "Epoch 13/50\n",
            "6680/6680 [==============================] - 0s 41us/step - loss: 0.0697 - acc: 0.9750 - val_loss: 0.9348 - val_acc: 0.8120\n",
            "\n",
            "Epoch 00013: val_loss did not improve from 0.79625\n",
            "Epoch 14/50\n",
            "6680/6680 [==============================] - 0s 38us/step - loss: 0.0612 - acc: 0.9811 - val_loss: 0.8823 - val_acc: 0.8144\n",
            "\n",
            "Epoch 00014: val_loss did not improve from 0.79625\n",
            "Epoch 15/50\n",
            "6680/6680 [==============================] - 0s 39us/step - loss: 0.0608 - acc: 0.9792 - val_loss: 0.9583 - val_acc: 0.8144\n",
            "\n",
            "Epoch 00015: val_loss did not improve from 0.79625\n",
            "Epoch 16/50\n",
            "6680/6680 [==============================] - 0s 39us/step - loss: 0.0616 - acc: 0.9784 - val_loss: 0.9815 - val_acc: 0.8108\n",
            "\n",
            "Epoch 00016: val_loss did not improve from 0.79625\n",
            "Epoch 17/50\n",
            "6680/6680 [==============================] - 0s 39us/step - loss: 0.0502 - acc: 0.9829 - val_loss: 1.0664 - val_acc: 0.8036\n",
            "\n",
            "Epoch 00017: val_loss did not improve from 0.79625\n",
            "Epoch 18/50\n",
            "6680/6680 [==============================] - 0s 39us/step - loss: 0.0650 - acc: 0.9792 - val_loss: 0.9849 - val_acc: 0.8072\n",
            "\n",
            "Epoch 00018: val_loss did not improve from 0.79625\n",
            "Epoch 19/50\n",
            "6680/6680 [==============================] - 0s 39us/step - loss: 0.0682 - acc: 0.9808 - val_loss: 1.0464 - val_acc: 0.8132\n",
            "\n",
            "Epoch 00019: val_loss did not improve from 0.79625\n",
            "Epoch 20/50\n",
            "6680/6680 [==============================] - 0s 38us/step - loss: 0.0580 - acc: 0.9793 - val_loss: 0.9659 - val_acc: 0.8180\n",
            "\n",
            "Epoch 00020: val_loss did not improve from 0.79625\n",
            "Epoch 21/50\n",
            "6680/6680 [==============================] - 0s 39us/step - loss: 0.0545 - acc: 0.9817 - val_loss: 0.9898 - val_acc: 0.8144\n",
            "\n",
            "Epoch 00021: val_loss did not improve from 0.79625\n",
            "Epoch 22/50\n",
            "6680/6680 [==============================] - 0s 38us/step - loss: 0.0531 - acc: 0.9825 - val_loss: 1.0165 - val_acc: 0.8108\n",
            "\n",
            "Epoch 00022: val_loss did not improve from 0.79625\n",
            "Epoch 23/50\n",
            "6680/6680 [==============================] - 0s 39us/step - loss: 0.0537 - acc: 0.9817 - val_loss: 0.9484 - val_acc: 0.8192\n",
            "\n",
            "Epoch 00023: val_loss did not improve from 0.79625\n",
            "Epoch 24/50\n",
            "6680/6680 [==============================] - 0s 38us/step - loss: 0.0471 - acc: 0.9861 - val_loss: 1.1008 - val_acc: 0.8156\n",
            "\n",
            "Epoch 00024: val_loss did not improve from 0.79625\n",
            "Epoch 25/50\n",
            "6680/6680 [==============================] - 0s 39us/step - loss: 0.0471 - acc: 0.9846 - val_loss: 0.9796 - val_acc: 0.8216\n",
            "\n",
            "Epoch 00025: val_loss did not improve from 0.79625\n",
            "Epoch 26/50\n",
            "6680/6680 [==============================] - 0s 38us/step - loss: 0.0452 - acc: 0.9853 - val_loss: 0.9910 - val_acc: 0.8216\n",
            "\n",
            "Epoch 00026: val_loss did not improve from 0.79625\n",
            "Epoch 27/50\n",
            "6680/6680 [==============================] - 0s 43us/step - loss: 0.0495 - acc: 0.9835 - val_loss: 1.0724 - val_acc: 0.8096\n",
            "\n",
            "Epoch 00027: val_loss did not improve from 0.79625\n",
            "Epoch 28/50\n",
            "6680/6680 [==============================] - 0s 37us/step - loss: 0.0438 - acc: 0.9841 - val_loss: 1.0257 - val_acc: 0.8132\n",
            "\n",
            "Epoch 00028: val_loss did not improve from 0.79625\n",
            "Epoch 29/50\n",
            "6680/6680 [==============================] - 0s 41us/step - loss: 0.0545 - acc: 0.9817 - val_loss: 1.0066 - val_acc: 0.8168\n",
            "\n",
            "Epoch 00029: val_loss did not improve from 0.79625\n",
            "Epoch 30/50\n",
            "6680/6680 [==============================] - 0s 37us/step - loss: 0.0385 - acc: 0.9868 - val_loss: 1.1006 - val_acc: 0.8180\n",
            "\n",
            "Epoch 00030: val_loss did not improve from 0.79625\n",
            "Epoch 31/50\n",
            "6680/6680 [==============================] - 0s 38us/step - loss: 0.0451 - acc: 0.9865 - val_loss: 1.0751 - val_acc: 0.8156\n",
            "\n",
            "Epoch 00031: val_loss did not improve from 0.79625\n",
            "Epoch 32/50\n",
            "6680/6680 [==============================] - 0s 38us/step - loss: 0.0533 - acc: 0.9828 - val_loss: 0.9987 - val_acc: 0.8371\n",
            "\n",
            "Epoch 00032: val_loss did not improve from 0.79625\n",
            "Epoch 33/50\n",
            "6680/6680 [==============================] - 0s 39us/step - loss: 0.0442 - acc: 0.9847 - val_loss: 1.1514 - val_acc: 0.8168\n",
            "\n",
            "Epoch 00033: val_loss did not improve from 0.79625\n",
            "Epoch 34/50\n",
            "6680/6680 [==============================] - 0s 38us/step - loss: 0.0404 - acc: 0.9879 - val_loss: 1.1542 - val_acc: 0.8228\n",
            "\n",
            "Epoch 00034: val_loss did not improve from 0.79625\n",
            "Epoch 35/50\n",
            "6680/6680 [==============================] - 0s 39us/step - loss: 0.0456 - acc: 0.9843 - val_loss: 1.1833 - val_acc: 0.8120\n",
            "\n",
            "Epoch 00035: val_loss did not improve from 0.79625\n",
            "Epoch 36/50\n",
            "6680/6680 [==============================] - 0s 40us/step - loss: 0.0398 - acc: 0.9880 - val_loss: 1.0870 - val_acc: 0.8192\n",
            "\n",
            "Epoch 00036: val_loss did not improve from 0.79625\n",
            "Epoch 37/50\n",
            "6680/6680 [==============================] - 0s 42us/step - loss: 0.0450 - acc: 0.9859 - val_loss: 1.1293 - val_acc: 0.8156\n",
            "\n",
            "Epoch 00037: val_loss did not improve from 0.79625\n",
            "Epoch 38/50\n",
            "6680/6680 [==============================] - 0s 38us/step - loss: 0.0431 - acc: 0.9867 - val_loss: 1.1830 - val_acc: 0.8108\n",
            "\n",
            "Epoch 00038: val_loss did not improve from 0.79625\n",
            "Epoch 39/50\n",
            "6680/6680 [==============================] - 0s 38us/step - loss: 0.0437 - acc: 0.9852 - val_loss: 1.1081 - val_acc: 0.8060\n",
            "\n",
            "Epoch 00039: val_loss did not improve from 0.79625\n",
            "Epoch 40/50\n",
            "6680/6680 [==============================] - 0s 38us/step - loss: 0.0325 - acc: 0.9892 - val_loss: 1.2010 - val_acc: 0.8024\n",
            "\n",
            "Epoch 00040: val_loss did not improve from 0.79625\n",
            "Epoch 41/50\n",
            "6680/6680 [==============================] - 0s 39us/step - loss: 0.0401 - acc: 0.9870 - val_loss: 1.2431 - val_acc: 0.8000\n",
            "\n",
            "Epoch 00041: val_loss did not improve from 0.79625\n",
            "Epoch 42/50\n",
            "6680/6680 [==============================] - 0s 38us/step - loss: 0.0471 - acc: 0.9862 - val_loss: 1.2302 - val_acc: 0.8228\n",
            "\n",
            "Epoch 00042: val_loss did not improve from 0.79625\n",
            "Epoch 43/50\n",
            "6680/6680 [==============================] - 0s 38us/step - loss: 0.0382 - acc: 0.9880 - val_loss: 1.3030 - val_acc: 0.8084\n",
            "\n",
            "Epoch 00043: val_loss did not improve from 0.79625\n",
            "Epoch 44/50\n",
            "6680/6680 [==============================] - 0s 39us/step - loss: 0.0395 - acc: 0.9867 - val_loss: 1.1280 - val_acc: 0.8228\n",
            "\n",
            "Epoch 00044: val_loss did not improve from 0.79625\n",
            "Epoch 45/50\n",
            "6680/6680 [==============================] - 0s 39us/step - loss: 0.0469 - acc: 0.9859 - val_loss: 1.1506 - val_acc: 0.8096\n",
            "\n",
            "Epoch 00045: val_loss did not improve from 0.79625\n",
            "Epoch 46/50\n",
            "6680/6680 [==============================] - 0s 37us/step - loss: 0.0421 - acc: 0.9880 - val_loss: 1.2227 - val_acc: 0.8132\n",
            "\n",
            "Epoch 00046: val_loss did not improve from 0.79625\n",
            "Epoch 47/50\n",
            "6680/6680 [==============================] - 0s 39us/step - loss: 0.0366 - acc: 0.9862 - val_loss: 1.1134 - val_acc: 0.8263\n",
            "\n",
            "Epoch 00047: val_loss did not improve from 0.79625\n",
            "Epoch 48/50\n",
            "6680/6680 [==============================] - 0s 38us/step - loss: 0.0496 - acc: 0.9853 - val_loss: 1.1699 - val_acc: 0.8060\n",
            "\n",
            "Epoch 00048: val_loss did not improve from 0.79625\n",
            "Epoch 49/50\n",
            "6680/6680 [==============================] - 0s 39us/step - loss: 0.0402 - acc: 0.9852 - val_loss: 1.1602 - val_acc: 0.8060\n",
            "\n",
            "Epoch 00049: val_loss did not improve from 0.79625\n",
            "Epoch 50/50\n",
            "6680/6680 [==============================] - 0s 37us/step - loss: 0.0409 - acc: 0.9886 - val_loss: 1.3391 - val_acc: 0.8036\n",
            "\n",
            "Epoch 00050: val_loss did not improve from 0.79625\n"
          ],
          "name": "stdout"
        },
        {
          "output_type": "execute_result",
          "data": {
            "text/plain": [
              "<keras.callbacks.History at 0x7efbf058ebe0>"
            ]
          },
          "metadata": {
            "tags": []
          },
          "execution_count": 55
        }
      ]
    },
    {
      "cell_type": "code",
      "metadata": {
        "id": "F95pfl6yU-Fl",
        "colab_type": "code",
        "colab": {}
      },
      "source": [
        "modelTransfer.load_weights('/content/drive/My Drive/Colab Notebooks/dog-project/saved_models/weights.best4.RESNET50.hdf5')"
      ],
      "execution_count": 0,
      "outputs": []
    },
    {
      "cell_type": "code",
      "metadata": {
        "id": "jGlbv8ESVD3s",
        "colab_type": "code",
        "outputId": "11b64ded-293b-4478-ad4b-4e3f98fd8e90",
        "colab": {
          "base_uri": "https://localhost:8080/",
          "height": 34
        }
      },
      "source": [
        "pred = [np.argmax(modelTransfer.predict(np.expand_dims(feature, axis=0))) for feature in test_RESNET50]\n",
        "accuracy = 100*np.sum(np.array(pred)==np.argmax(test_targets, axis=1))/len(pred)\n",
        "print('Test accuracy: %.4f%%' % accuracy)"
      ],
      "execution_count": 0,
      "outputs": [
        {
          "output_type": "stream",
          "text": [
            "Test accuracy: 82.0574%\n"
          ],
          "name": "stdout"
        }
      ]
    },
    {
      "cell_type": "code",
      "metadata": {
        "id": "DKcoa8TEjfV0",
        "colab_type": "code",
        "colab": {}
      },
      "source": [
        ""
      ],
      "execution_count": 0,
      "outputs": []
    }
  ]
}